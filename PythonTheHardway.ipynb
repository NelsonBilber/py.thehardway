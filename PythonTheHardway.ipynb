{
 "cells": [
  {
   "cell_type": "code",
   "execution_count": 8,
   "metadata": {
    "collapsed": false
   },
   "outputs": [
    {
     "name": "stdout",
     "output_type": "stream",
     "text": [
      "Hello Snake\n"
     ]
    }
   ],
   "source": [
    "# python the hardway https://learnpythonthehardway.org/book/index.html\n",
    "\n",
    "# Exercise 1 - Hello world\n",
    "import sys\n",
    "print (\"Hello Snake\")\n"
   ]
  },
  {
   "cell_type": "code",
   "execution_count": 13,
   "metadata": {
    "collapsed": false
   },
   "outputs": [
    {
     "name": "stdout",
     "output_type": "stream",
     "text": [
      "5 + 2 =  7\n",
      "5 > 2 ?  True\n",
      "7 / 4 =  1.75\n",
      "7 % 4 =  3\n"
     ]
    }
   ],
   "source": [
    "# Exercise 2 - simple math operations\n",
    " \n",
    "print (\"5 + 2 = \", 5 + 2)\n",
    "print (\"5 > 2 ? \", 5 > 2)\n",
    "print (\"7 / 4 = \", 7/4)\n",
    "# print (\"7 % 4 = \", 7%4)"
   ]
  },
  {
   "cell_type": "code",
   "execution_count": 2,
   "metadata": {
    "collapsed": false
   },
   "outputs": [
    {
     "name": "stdout",
     "output_type": "stream",
     "text": [
      "Let's talk about Zed A. Shaw.\n",
      "He's 74 inches tall.\n",
      "He's 180 pounds heavy.\n",
      "Actually that's not too heavy.\n",
      "He's got Blue eyes and Brown hair.\n",
      "His teeth are usually White depending on the coffee.\n",
      "If I add 35, 74, and 180 I get 289.\n"
     ]
    }
   ],
   "source": [
    "# Exercise 3 - variables and names\n",
    "\n",
    "my_name = 'Zed A. Shaw'\n",
    "my_age = 35 # not a lie\n",
    "my_height = 74 # inches\n",
    "my_weight = 180 # lbs\n",
    "my_eyes = 'Blue'\n",
    "my_teeth = 'White'\n",
    "my_hair = 'Brown'\n",
    "\n",
    "print (\"Let's talk about %s.\" % my_name)\n",
    "print (\"He's %d inches tall.\" % my_height)\n",
    "print (\"He's %d pounds heavy.\" % my_weight)\n",
    "print (\"Actually that's not too heavy.\")\n",
    "print (\"He's got %s eyes and %s hair.\" % (my_eyes, my_hair))\n",
    "print (\"His teeth are usually %s depending on the coffee.\" % my_teeth)\n",
    "\n",
    "# this line is tricky, try to get it exactly right\n",
    "print (\"If I add %d, %d, and %d I get %d.\" % ( my_age, my_height, my_weight, my_age + my_height + my_weight))"
   ]
  },
  {
   "cell_type": "code",
   "execution_count": 8,
   "metadata": {
    "collapsed": false
   },
   "outputs": [
    {
     "name": "stdout",
     "output_type": "stream",
     "text": [
      "34\n",
      "What's your age ?  34\n"
     ]
    }
   ],
   "source": [
    " # Exercise 4 - input from console\n",
    "    \n",
    "age = input()\n",
    "print (\"What's your age ? \", age)\n"
   ]
  },
  {
   "cell_type": "code",
   "execution_count": 4,
   "metadata": {
    "collapsed": false
   },
   "outputs": [
    {
     "name": "stdout",
     "output_type": "stream",
     "text": [
      "second =  ['F:\\\\Anaconda3\\\\lib\\\\site-packages\\\\ipykernel\\\\__main__.py', '-f', 'C:\\\\Users\\\\NelsonRodrigues\\\\AppData\\\\Roaming\\\\jupyter\\\\runtime\\\\kernel-9576f747-9618-4c5d-bbd2-3530d8483a7a.json']\n"
     ]
    }
   ],
   "source": [
    "#Exercise 13 using parameters\n",
    "\n",
    "from sys import argv\n",
    "\n",
    "program_name = argv\n",
    "print (\"second = \", program_name)"
   ]
  },
  {
   "cell_type": "code",
   "execution_count": 23,
   "metadata": {
    "collapsed": false
   },
   "outputs": [
    {
     "name": "stdout",
     "output_type": "stream",
     "text": [
      "This is stuff I typed into a file.\n",
      "It is really cool stuff.\n",
      "Lots and lots of fun to have in here.\n"
     ]
    }
   ],
   "source": [
    "# Exercise 15 - Read files\n",
    "\n",
    "from sys import argv\n",
    "\n",
    "file = open(\"t.txt\",\"r\")\n",
    "for line in file:\n",
    "    print(line.rstrip())\n",
    "file.close()"
   ]
  },
  {
   "cell_type": "code",
   "execution_count": 26,
   "metadata": {
    "collapsed": false
   },
   "outputs": [
    {
     "name": "stdout",
     "output_type": "stream",
     "text": [
      "This is stuff I typed into a file.\n",
      "It is really cool stuff.\n",
      "Lots and lots of fun to have in here.\n"
     ]
    }
   ],
   "source": [
    "# Exercise 16 - Write file\n",
    "\n",
    "from sys import argv\n",
    "\n",
    "file = open(\"t.txt\",\"r\")\n",
    "out = open(\"t2.txt\",\"w\")\n",
    "for line in file:\n",
    "    out_line = line.rstrip()\n",
    "    print (out_line)\n",
    "    out.write(out_line)\n",
    "file.close()"
   ]
  },
  {
   "cell_type": "code",
   "execution_count": 34,
   "metadata": {
    "collapsed": false
   },
   "outputs": [
    {
     "name": "stdout",
     "output_type": "stream",
     "text": [
      "arg1: 'Zed', arg2: 'Ned'\n",
      "arg1: 'Zed', arg2: 'Ned'\n"
     ]
    }
   ],
   "source": [
    "#Exercise 18 -  functions\n",
    "\n",
    "def print_two(*args):\n",
    "    arg1, arg2 = args\n",
    "    print (\"arg1: %r, arg2: %r\" % (arg1, arg2))\n",
    "   \n",
    "def print_twoV2(arg1, arg2):\n",
    "    print (\"arg1: %r, arg2: %r\" % (arg1, arg2))\n",
    "    \n",
    "print_two(\"Zed\", \"Ned\")    \n",
    "print_twoV2(\"Zed\", \"Ned\")"
   ]
  },
  {
   "cell_type": "code",
   "execution_count": 37,
   "metadata": {
    "collapsed": false
   },
   "outputs": [
    {
     "name": "stdout",
     "output_type": "stream",
     "text": [
      "3\n",
      "30\n"
     ]
    }
   ],
   "source": [
    "# Exercise 19 - functions continue ...\n",
    "\n",
    "def add(num1, num2):\n",
    "    return (num1 + num2)\n",
    "\n",
    "print (add(1,2))\n",
    "print (add(5+5,10+10))\n",
    "    "
   ]
  },
  {
   "cell_type": "code",
   "execution_count": 41,
   "metadata": {
    "collapsed": false
   },
   "outputs": [
    {
     "data": {
      "text/plain": [
       "False"
      ]
     },
     "execution_count": 41,
     "metadata": {},
     "output_type": "execute_result"
    }
   ],
   "source": [
    "# Exercise 28 - Booleans\n",
    "\n",
    "True and True\n",
    "False and True\n",
    "\"test\" == \"test\"\n",
    "3 == 3 and (not (\"testing\" == \"testing\" or \"Python\" == \"Fun\"))"
   ]
  },
  {
   "cell_type": "code",
   "execution_count": 51,
   "metadata": {
    "collapsed": false
   },
   "outputs": [
    {
     "name": "stdout",
     "output_type": "stream",
     "text": [
      "We should take the cars.\n"
     ]
    }
   ],
   "source": [
    "#Exercise 29 - If conditions\n",
    "\n",
    "people = 30\n",
    "cars = 40\n",
    "trucks = 15\n",
    "\n",
    "if cars > people:\n",
    "    print (\"We should take the cars.\")\n",
    "elif cars < people:\n",
    "    print (\"We should not take the cars.\")\n",
    "else:\n",
    "    print (\"We can't decide.\")\n",
    "    "
   ]
  },
  {
   "cell_type": "code",
   "execution_count": 56,
   "metadata": {
    "collapsed": false
   },
   "outputs": [
    {
     "name": "stdout",
     "output_type": "stream",
     "text": [
      "1\n",
      "2\n",
      "3\n",
      "I got 1\n",
      "I got 'pennies'\n",
      "I got 2\n",
      "I got 'dimes'\n",
      "I got 3\n",
      "I got 'quarters'\n"
     ]
    }
   ],
   "source": [
    "# Exercise 32 - Loop and List\n",
    "\n",
    "numbers = [1, 2, 3]\n",
    "change = [1, 'pennies', 2, 'dimes', 3, 'quarters']\n",
    "\n",
    "for num in numbers:\n",
    "    print (num)\n",
    "    \n",
    "for i in change:\n",
    "    print(\"I got %r\" % i)\n"
   ]
  },
  {
   "cell_type": "code",
   "execution_count": 61,
   "metadata": {
    "collapsed": false
   },
   "outputs": [
    {
     "name": "stdout",
     "output_type": "stream",
     "text": [
      "At the top i is 0\n",
      "Numbers now:  [0]\n",
      "At the bottom i is 1\n",
      "At the top i is 1\n",
      "Numbers now:  [0, 1]\n",
      "At the bottom i is 2\n",
      "At the top i is 2\n",
      "Numbers now:  [0, 1, 2]\n",
      "At the bottom i is 3\n",
      "At the top i is 3\n",
      "Numbers now:  [0, 1, 2, 3]\n",
      "At the bottom i is 4\n",
      "At the top i is 4\n",
      "Numbers now:  [0, 1, 2, 3, 4]\n",
      "At the bottom i is 5\n",
      "At the top i is 5\n",
      "Numbers now:  [0, 1, 2, 3, 4, 5]\n",
      "At the bottom i is 6\n",
      "The numbers: \n",
      "0\n",
      "1\n",
      "2\n",
      "3\n",
      "4\n",
      "5\n"
     ]
    }
   ],
   "source": [
    "# Exercise 33 -  while loops\n",
    "i = 0\n",
    "numbers = []\n",
    "\n",
    "while i < 6:\n",
    "    print (\"At the top i is %d\" % i)\n",
    "    numbers.append(i)\n",
    "\n",
    "    i = i + 1\n",
    "    print (\"Numbers now: \", numbers)\n",
    "    print (\"At the bottom i is %d\" % i)\n",
    "\n",
    "\n",
    "print (\"The numbers: \")\n",
    "\n",
    "for num in numbers:\n",
    "    print (num)"
   ]
  },
  {
   "cell_type": "code",
   "execution_count": 63,
   "metadata": {
    "collapsed": false
   },
   "outputs": [
    {
     "data": {
      "text/plain": [
       "'wolf'"
      ]
     },
     "execution_count": 63,
     "metadata": {},
     "output_type": "execute_result"
    }
   ],
   "source": [
    "# Exercise 34 - access list elems\n",
    "\n",
    "animals = ['bear', \"wolf\"]\n",
    "\n",
    "animals[1]\n"
   ]
  },
  {
   "cell_type": "code",
   "execution_count": 73,
   "metadata": {
    "collapsed": false
   },
   "outputs": [
    {
     "name": "stdout",
     "output_type": "stream",
     "text": [
      "Nelson\n",
      "{'Oregon': 'OR', 'Florida': 'FL', 'New York': 'NY', 'California': 'CA', 'Michigan': 'MI'}\n",
      "Testing .... San Francisco\n",
      "Oregon is abbreviated OR\n",
      "Florida is abbreviated FL\n",
      "New York is abbreviated NY\n",
      "California is abbreviated CA\n",
      "Michigan is abbreviated MI\n"
     ]
    }
   ],
   "source": [
    "# Exercise 39 -  Dictionaries\n",
    "\n",
    "stuff = {'name': 'Nelson',  'age' : 33}\n",
    "\n",
    "print (stuff['name'])\n",
    "\n",
    "# create a mapping of state to abbreviation\n",
    "states = {\n",
    "    'Oregon': 'OR',\n",
    "    'Florida': 'FL',\n",
    "    'California': 'CA',\n",
    "    'New York': 'NY',\n",
    "    'Michigan': 'MI'\n",
    "}\n",
    "\n",
    "print (states)\n",
    "\n",
    "# create a basic set of states and some cities in them\n",
    "cities = {\n",
    "    'CA': 'San Francisco',\n",
    "    'MI': 'Detroit',\n",
    "    'FL': 'Jacksonville'\n",
    "}\n",
    "\n",
    "print (\"Testing ....\", cities[states['California']])\n",
    "\n",
    "\n",
    "# print every state abbreviation\n",
    "for state, abbrev in states.items():\n",
    "    print (\"%s is abbreviated %s\" % (state, abbrev))\n"
   ]
  },
  {
   "cell_type": "code",
   "execution_count": 77,
   "metadata": {
    "collapsed": false
   },
   "outputs": [
    {
     "name": "stdout",
     "output_type": "stream",
     "text": [
      "tada ttttt tada ...\n"
     ]
    }
   ],
   "source": [
    "# Exercise 40 - Object Oriented Programming\n",
    "\n",
    "class Song(object):\n",
    "    def __init__(self,lyrics):\n",
    "        self.lyrics = lyrics\n",
    "    \n",
    "    def sing_me_a_song(self):\n",
    "        for line in self.lyrics:\n",
    "            print(line)\n",
    "            \n",
    "happy_bday = Song([\"tada ttttt tada ...\"])            \n",
    "\n",
    "happy_bday.sing_me_a_song()\n",
    "\n"
   ]
  },
  {
   "cell_type": "code",
   "execution_count": 79,
   "metadata": {
    "collapsed": true
   },
   "outputs": [],
   "source": [
    "## Animal is-a object (yes, sort of confusing) look at the extra credit\n",
    "class Animal(object):\n",
    "    pass\n",
    "\n",
    "## ??\n",
    "class Dog(Animal):\n",
    "\n",
    "    def __init__(self, name):\n",
    "        ## ??\n",
    "        self.name = name\n",
    "\n",
    "## ??\n",
    "class Cat(Animal):\n",
    "\n",
    "    def __init__(self, name):\n",
    "        ## ??\n",
    "        self.name = name\n",
    "\n",
    "## ??\n",
    "class Person(object):\n",
    "\n",
    "    def __init__(self, name):\n",
    "        ## ??\n",
    "        self.name = name\n",
    "\n",
    "        ## Person has-a pet of some kind\n",
    "        self.pet = None\n",
    "\n",
    "## ??\n",
    "class Employee(Person):\n",
    "\n",
    "    def __init__(self, name, salary):\n",
    "        ## ?? hmm what is this strange magic?\n",
    "        super(Employee, self).__init__(name)\n",
    "        ## ??\n",
    "        self.salary = salary\n",
    "\n",
    "## ??\n",
    "class Fish(object):\n",
    "    pass\n",
    "\n",
    "## ??\n",
    "class Salmon(Fish):\n",
    "    pass\n",
    "\n",
    "## ??\n",
    "class Halibut(Fish):\n",
    "    pass\n",
    "\n",
    "\n",
    "## rover is-a Dog\n",
    "rover = Dog(\"Rover\")\n",
    "\n",
    "## ??\n",
    "satan = Cat(\"Satan\")\n",
    "\n",
    "## ??\n",
    "mary = Person(\"Mary\")\n",
    "\n",
    "## ??\n",
    "mary.pet = satan\n",
    "\n",
    "## ??\n",
    "frank = Employee(\"Frank\", 120000)\n",
    "\n",
    "## ??\n",
    "frank.pet = rover\n",
    "\n",
    "## ??\n",
    "flipper = Fish()\n",
    "\n",
    "## ??\n",
    "crouse = Salmon()\n",
    "\n",
    "## ??\n",
    "harry = Halibut()"
   ]
  },
  {
   "cell_type": "code",
   "execution_count": 85,
   "metadata": {
    "collapsed": false
   },
   "outputs": [
    {
     "name": "stdout",
     "output_type": "stream",
     "text": [
      "PARENT implicit()\n",
      "PARENT implicit()\n",
      "PARENT override()\n",
      "CHILD override()\n",
      "PARENT altered()\n",
      "CHILD, BEFORE PARENT altered()\n",
      "PARENT altered()\n",
      "CHILD, AFTER PARENT altered()\n"
     ]
    }
   ],
   "source": [
    "# Exercise 44 - Inheritance vs Composition\n",
    "\n",
    "\n",
    "\n",
    "#Implicit ineritance\n",
    "class Parent(object):\n",
    "\n",
    "    def implicit(self):\n",
    "        print (\"PARENT implicit()\")\n",
    "\n",
    "class Child(Parent):\n",
    "    pass\n",
    "\n",
    "dad = Parent()\n",
    "son = Child()\n",
    "\n",
    "dad.implicit()\n",
    "son.implicit()\n",
    "\n",
    "\n",
    "\n",
    "#Override explicit\n",
    "class Parent(object):\n",
    "\n",
    "    def override(self):\n",
    "        print (\"PARENT override()\")\n",
    "\n",
    "class Child(Parent):\n",
    "\n",
    "    def override(self):\n",
    "        print (\"CHILD override()\")\n",
    "\n",
    "dad = Parent()\n",
    "son = Child()\n",
    "\n",
    "dad.override()\n",
    "son.override()\n",
    "\n",
    "\n",
    "# Altered \n",
    "\n",
    "class Parent(object):\n",
    "\n",
    "    def altered(self):\n",
    "        print (\"PARENT altered()\")\n",
    "\n",
    "class Child(Parent):\n",
    "\n",
    "    def altered(self):\n",
    "        print (\"CHILD, BEFORE PARENT altered()\")\n",
    "        super(Child, self).altered()\n",
    "        print (\"CHILD, AFTER PARENT altered()\")\n",
    "\n",
    "dad = Parent()\n",
    "son = Child()\n",
    "\n",
    "dad.altered()\n",
    "son.altered()"
   ]
  },
  {
   "cell_type": "code",
   "execution_count": 1,
   "metadata": {
    "collapsed": false
   },
   "outputs": [],
   "source": [
    "# Exercise 47 - Automated Testing\n",
    "\n",
    "from nose.tools import *\n",
    "\n",
    "class Room(object):\n",
    "    def __init__(self, name, description):\n",
    "        self.name = name\n",
    "        self.description = description\n",
    "        self.paths = {}\n",
    "        \n",
    "    def go(self, direction):\n",
    "        return self.paths.get(direction, None)\n",
    "    \n",
    "    def add_paths(self, paths):\n",
    "        self.paths.update(paths)\n",
    "        \n",
    "        \n",
    "def test_room():\n",
    "    gold = Room(\"GoldRoom\",\n",
    "                \"\"\"This room has gold in it you can grab. There's a\n",
    "                door to the north.\"\"\")\n",
    "    \n",
    "    assert_equal(gold.name, \"GoldRoom\")\n",
    "    assert_equal(gold.paths, {})\n",
    "    "
   ]
  },
  {
   "cell_type": "code",
   "execution_count": null,
   "metadata": {
    "collapsed": true
   },
   "outputs": [],
   "source": []
  },
  {
   "cell_type": "code",
   "execution_count": null,
   "metadata": {
    "collapsed": true
   },
   "outputs": [],
   "source": []
  }
 ],
 "metadata": {
  "anaconda-cloud": {},
  "kernelspec": {
   "display_name": "Python [conda root]",
   "language": "python",
   "name": "conda-root-py"
  },
  "language_info": {
   "codemirror_mode": {
    "name": "ipython",
    "version": 2
   },
   "file_extension": ".py",
   "mimetype": "text/x-python",
   "name": "python",
   "nbconvert_exporter": "python",
   "pygments_lexer": "ipython2",
   "version": "2.7.12"
  }
 },
 "nbformat": 4,
 "nbformat_minor": 1
}
